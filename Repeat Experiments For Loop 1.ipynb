{
 "cells": [
  {
   "cell_type": "code",
   "execution_count": 1,
   "metadata": {
    "collapsed": true
   },
   "outputs": [],
   "source": [
    "from scipy import *\n",
    "import numpy as np\n",
    "from numpy.random import rand\n",
    "import matplotlib.pyplot as plt\n",
    "import matplotlib.animation\n",
    "import PlanktonSignaling.basics as PS\n",
    "from scipy import ndimage\n",
    "from cv2 import *\n",
    "%matplotlib notebook\n",
    "%matplotlib inline"
   ]
  },
  {
   "cell_type": "code",
   "execution_count": 2,
   "metadata": {
    "collapsed": true,
    "scrolled": true
   },
   "outputs": [],
   "source": [
    "def constantDep(c,depMaxStr,**kwargs):\n",
    "    '''Constant deposition function'''\n",
    "    return(array(depMaxStr*ones(len(c))))\n",
    "\n",
    "def atanDep(c,depMaxStr,depThreshold=0.08,depTransWidth=1/250,**kwargs):\n",
    "    '''arctan (soft switch) transition function'''\n",
    "\n",
    "    return(depMaxStr/pi*(arctan((-c+depThreshold)/depTransWidth)+pi/2))\n",
    "\n",
    "def linAtanDep(c,depMaxStr,depThreshold=0.08,depTransWidth=1/250,**kwargs):\n",
    "    '''arctan (soft switch) transition function'''\n",
    "\n",
    "    return(depMaxStr/pi*(c+0.1*depThreshold)/1.1/depThreshold*(arctan((-c+depThreshold)/depTransWidth)+pi/2))\n",
    "\n",
    "def blobdetect(thresh, maxValue, swimmers):\n",
    "    im2 = np.array(swimmers*255/0.08, dtype = np.uint8)\n",
    "    threshed = cv2.adaptiveThreshold(im2, 255, cv2.ADAPTIVE_THRESH_MEAN_C, cv2.THRESH_BINARY, 3, 0)\n",
    "    #plt.imshow(im2)\n",
    "\n",
    "    th, dst = cv2.threshold(im2, thresh, maxValue, cv2.THRESH_BINARY)\n",
    "    #plt.imshow(dst)\n",
    "    im = cv2.bitwise_not(dst)\n",
    "\n",
    "    params = cv2.SimpleBlobDetector_Params()\n",
    "\n",
    "    params.minThreshold = 0\n",
    "    params.maxThreshold = 300\n",
    "    params.filterByConvexity = False\n",
    "    params.filterByArea = False\n",
    "\n",
    "    detector = cv2.SimpleBlobDetector_create(params)\n",
    "\n",
    "    #Detect the blobs\n",
    "\n",
    "    keypoints = detector.detect(im)\n",
    "\n",
    "    im=cv2.bitwise_not(im)\n",
    "\n",
    "    #plot the blob contours\n",
    "\n",
    "    #im_with_keypoints = cv2.drawKeypoints(im, keypoints, np.array([]), (0,0,255), cv2.DRAW_MATCHES_FLAGS_DRAW_RICH_KEYPOINTS)\n",
    "\n",
    "    #plt.imshow(im_with_keypoints)\n",
    "\n",
    "    #outputs how many blobs there are \n",
    "\n",
    "    return(len(keypoints));\n",
    "\n",
    "def blobdetect2(thresh, maxValue, swimmers):\n",
    "    im2 = np.array(swimmers*255/0.08, dtype = np.uint8)\n",
    "    im3 = np.tile(im2,(2,2))\n",
    "    threshed = cv2.adaptiveThreshold(im3, 255, cv2.ADAPTIVE_THRESH_MEAN_C, cv2.THRESH_BINARY, 3, 0)\n",
    "    #plt.imshow(im2)\n",
    "\n",
    "    th, dst = cv2.threshold(im3, thresh, maxValue, cv2.THRESH_BINARY)\n",
    "    #plt.imshow(dst)\n",
    "    im = cv2.bitwise_not(dst)\n",
    "\n",
    "    params = cv2.SimpleBlobDetector_Params()\n",
    "\n",
    "    params.minThreshold = 0\n",
    "    params.maxThreshold = 300\n",
    "    params.filterByConvexity = False\n",
    "    params.filterByArea = False\n",
    "\n",
    "    detector = cv2.SimpleBlobDetector_create(params)\n",
    "\n",
    "    #Detect the blobs\n",
    "\n",
    "    keypoints = detector.detect(im)\n",
    "\n",
    "    im=cv2.bitwise_not(im)\n",
    "\n",
    "    #plot the blob contours\n",
    "\n",
    "    #im_with_keypoints = cv2.drawKeypoints(im, keypoints, np.array([]), (0,0,255), cv2.DRAW_MATCHES_FLAGS_DRAW_RICH_KEYPOINTS)\n",
    "\n",
    "    #plt.imshow(im_with_keypoints)\n",
    "\n",
    "    #outputs how many blobs there are \n",
    "\n",
    "    return(len(keypoints));\n",
    "\n",
    "def blobdetect3(thresh, maxValue, swimmers):\n",
    "    im2 = np.array(swimmers*255/0.08, dtype = np.uint8)\n",
    "    im3 = np.tile(im2,(3,3))\n",
    "    threshed = cv2.adaptiveThreshold(im3, 255, cv2.ADAPTIVE_THRESH_MEAN_C, cv2.THRESH_BINARY, 3, 0)\n",
    "    #plt.imshow(im2)\n",
    "\n",
    "    th, dst = cv2.threshold(im3, thresh, maxValue, cv2.THRESH_BINARY)\n",
    "    #plt.imshow(dst)\n",
    "    im = cv2.bitwise_not(dst)\n",
    "\n",
    "    params = cv2.SimpleBlobDetector_Params()\n",
    "\n",
    "    params.minThreshold = 0\n",
    "    params.maxThreshold = 300\n",
    "    params.filterByConvexity = False\n",
    "    params.filterByArea = False\n",
    "\n",
    "    detector = cv2.SimpleBlobDetector_create(params)\n",
    "\n",
    "    #Detect the blobs\n",
    "\n",
    "    keypoints = detector.detect(im)\n",
    "\n",
    "    im=cv2.bitwise_not(im)\n",
    "\n",
    "    #plot the blob contours\n",
    "\n",
    "    #im_with_keypoints = cv2.drawKeypoints(im, keypoints, np.array([]), (0,0,255), cv2.DRAW_MATCHES_FLAGS_DRAW_RICH_KEYPOINTS)\n",
    "\n",
    "    #plt.imshow(im_with_keypoints)\n",
    "\n",
    "    #outputs how many blobs there are \n",
    "\n",
    "    return(len(keypoints));\n",
    "\n",
    "def countblob(a,b,c):\n",
    "    A = np.array([[1,2,4],[4,3,9],[9,12,16]])\n",
    "    B = np.array([[a],[b],[c]])\n",
    "    x = np.linalg.solve(A,B)\n",
    "    return(x.sum());\n",
    "\n",
    "\n",
    "def initial_conditions(x,y):\n",
    "    return(0*x)"
   ]
  },
  {
   "cell_type": "markdown",
   "metadata": {},
   "source": [
    "# RT swimmers in a background field"
   ]
  },
  {
   "cell_type": "markdown",
   "metadata": {},
   "source": [
    "Set up some basic initial conditions.\n",
    "\n",
    "**Caution:** All length scales should be roughly the same or something is going to be underresolved."
   ]
  },
  {
   "cell_type": "markdown",
   "metadata": {},
   "source": [
    "## Simulate the system.  The upper value of the inner loop can be adjusted as needed.  The inner value of 1000 is a pretty long simulation."
   ]
  },
  {
   "cell_type": "markdown",
   "metadata": {},
   "source": [
    "Initialize the scalar field.  Lay out some particles."
   ]
  },
  {
   "cell_type": "markdown",
   "metadata": {},
   "source": [
    "#### Lambda Experiments"
   ]
  },
  {
   "cell_type": "code",
   "execution_count": 21,
   "metadata": {
    "collapsed": true
   },
   "outputs": [],
   "source": [
    "lam = [1,3,6]"
   ]
  },
  {
   "cell_type": "code",
   "execution_count": 22,
   "metadata": {},
   "outputs": [
    {
     "name": "stdout",
     "output_type": "stream",
     "text": [
      "Exact deposition variance: 1.28e-04, length scale: 1.13e-02.  a2: 4.00e-04.\n",
      "Exact deposition variance: 1.28e-04, length scale: 1.13e-02.  a2: 4.00e-04.\n",
      "Exact deposition variance: 1.28e-04, length scale: 1.13e-02.  a2: 4.00e-04.\n",
      "Exact deposition variance: 1.28e-04, length scale: 1.13e-02.  a2: 4.00e-04.\n",
      "Exact deposition variance: 1.28e-04, length scale: 1.13e-02.  a2: 4.00e-04.\n",
      "Exact deposition variance: 1.28e-04, length scale: 1.13e-02.  a2: 4.00e-04.\n",
      "Exact deposition variance: 1.28e-04, length scale: 1.13e-02.  a2: 4.00e-04.\n",
      "Exact deposition variance: 1.28e-04, length scale: 1.13e-02.  a2: 4.00e-04.\n",
      "Exact deposition variance: 1.28e-04, length scale: 1.13e-02.  a2: 4.00e-04.\n",
      "Exact deposition variance: 1.28e-04, length scale: 1.13e-02.  a2: 4.00e-04.\n",
      "Exact deposition variance: 1.28e-04, length scale: 1.13e-02.  a2: 4.00e-04.\n",
      "Exact deposition variance: 1.28e-04, length scale: 1.13e-02.  a2: 4.00e-04.\n",
      "Exact deposition variance: 1.28e-04, length scale: 1.13e-02.  a2: 4.00e-04.\n",
      "Exact deposition variance: 1.28e-04, length scale: 1.13e-02.  a2: 4.00e-04.\n",
      "Exact deposition variance: 1.28e-04, length scale: 1.13e-02.  a2: 4.00e-04.\n",
      "Exact deposition variance: 1.28e-04, length scale: 1.13e-02.  a2: 4.00e-04.\n",
      "Exact deposition variance: 1.28e-04, length scale: 1.13e-02.  a2: 4.00e-04.\n",
      "Exact deposition variance: 1.28e-04, length scale: 1.13e-02.  a2: 4.00e-04.\n",
      "Exact deposition variance: 1.28e-04, length scale: 1.13e-02.  a2: 4.00e-04.\n",
      "Exact deposition variance: 1.28e-04, length scale: 1.13e-02.  a2: 4.00e-04.\n",
      "Exact deposition variance: 1.28e-04, length scale: 1.13e-02.  a2: 4.00e-04.\n",
      "Exact deposition variance: 1.28e-04, length scale: 1.13e-02.  a2: 4.00e-04.\n",
      "Exact deposition variance: 1.28e-04, length scale: 1.13e-02.  a2: 4.00e-04.\n",
      "Exact deposition variance: 1.28e-04, length scale: 1.13e-02.  a2: 4.00e-04.\n",
      "Exact deposition variance: 1.28e-04, length scale: 1.13e-02.  a2: 4.00e-04.\n",
      "Exact deposition variance: 1.28e-04, length scale: 1.13e-02.  a2: 4.00e-04.\n",
      "Exact deposition variance: 1.28e-04, length scale: 1.13e-02.  a2: 4.00e-04.\n",
      "Exact deposition variance: 1.28e-04, length scale: 1.13e-02.  a2: 4.00e-04.\n",
      "Exact deposition variance: 1.28e-04, length scale: 1.13e-02.  a2: 4.00e-04.\n",
      "Exact deposition variance: 1.28e-04, length scale: 1.13e-02.  a2: 4.00e-04.\n"
     ]
    },
    {
     "data": {
      "text/plain": [
       "<matplotlib.legend.Legend at 0x1258b1198>"
      ]
     },
     "execution_count": 22,
     "metadata": {},
     "output_type": "execute_result"
    },
    {
     "data": {
      "image/png": "[encoded data removed]",
      "text/plain": [
       "<matplotlib.figure.Figure at 0x114632be0>"
      ]
     },
     "metadata": {},
     "output_type": "display_data"
    }
   ],
   "source": [
    "for j in range(0,3):\n",
    "    m = lam[j]\n",
    "    meshsize = 40\n",
    "    Swimmers = PS.Plankton(constantDep,N = meshsize,depMaxStr=1.0e-4,depVar=4.0e-4,k=0.02,speed=0.05,\n",
    "                        lambda0=m,kappa=6.4e-3,beta=1,depTransWidth=1/250,depThreshold=0.08)\n",
    "    \n",
    "    Swimmers.SetIC(initial_conditions)\n",
    "\n",
    "    pos = [array([0.1,0.1])]\n",
    "    aggreg = [array([0,0])]\n",
    "    th = rand()*2*pi\n",
    "    vel = [Swimmers.speed*array([cos(th),sin(th)])]\n",
    "    for l in range(0,20):\n",
    "        for k in range(0,20):\n",
    "            pos = np.append(pos,[array([mod(k*0.05 + 0.01*(rand()-0.5) + 0.05,1),\n",
    "                                      mod(l*0.05 + 0.01*(rand()-0.5) + 0.05,1)])],axis=0)\n",
    "            th  = rand()*2*pi\n",
    "            vel = np.append(vel,[Swimmers.speed*array([cos(th),sin(th)])],axis=0)\n",
    "\n",
    "            \n",
    "    pos_store = list([pos[:,:]])\n",
    "    pos_store = list([np.array(pos)])\n",
    "    scalar_store = list([Swimmers.Meshed()])\n",
    "\n",
    "    count = 1\n",
    "    for plot in range(0,5):\n",
    "        for k in range(0,1000):\n",
    "            Swimmers.Update2(Swimmers.scalar,pos,vel)\n",
    "            pos_store.append(np.array(pos))\n",
    "            scalar_store.append(Swimmers.Meshed())\n",
    "            aggregations = countblob(blobdetect(255*.54, 255, Swimmers.Meshed()),blobdetect2(255*.54, 255, Swimmers.Meshed()),blobdetect3(255*.54, 255, Swimmers.Meshed()))\n",
    "            aggreg = np.append(aggreg,[array([count,aggregations])], axis=0)\n",
    "            count = count + 1\n",
    "        \n",
    "    for i in range(1,10):\n",
    "        meshsize = 40\n",
    "        Swimmers = PS.Plankton(constantDep,N = meshsize,depMaxStr=1.0e-4,depVar=4.0e-4,k=0.02,speed=0.05,\n",
    "                            lambda0=m,kappa=6.4e-3,beta=1,depTransWidth=1/250,depThreshold=0.08)\n",
    "\n",
    "        Swimmers.SetIC(initial_conditions)\n",
    "\n",
    "        pos = [array([0.1,0.1])]\n",
    "        th = rand()*2*pi\n",
    "        vel = [Swimmers.speed*array([cos(th),sin(th)])]\n",
    "        for l in range(0,20):\n",
    "            for k in range(0,20):\n",
    "                pos = np.append(pos,[array([mod(k*0.05 + 0.01*(rand()-0.5) + 0.05,1),\n",
    "                                            mod(l*0.05 + 0.01*(rand()-0.5) + 0.05,1)])],axis=0)\n",
    "                th  = rand()*2*pi\n",
    "                vel = np.append(vel,[Swimmers.speed*array([cos(th),sin(th)])],axis=0)\n",
    "\n",
    "        pos_store = list([pos[:,:]])\n",
    "        pos_store = list([np.array(pos)])\n",
    "        scalar_store = list([Swimmers.Meshed()])\n",
    "\n",
    "        count = 1\n",
    "        for plot in range(0,5):\n",
    "            for k in range(0,1000):\n",
    "                Swimmers.Update2(Swimmers.scalar,pos,vel)\n",
    "                pos_store.append(np.array(pos))\n",
    "                scalar_store.append(Swimmers.Meshed())\n",
    "                aggregations = countblob(blobdetect(255*.54, 255, Swimmers.Meshed()),blobdetect2(255*.54, 255, Swimmers.Meshed()),blobdetect3(255*.54, 255, Swimmers.Meshed()))\n",
    "                aggreg[count,1] = aggreg[count,1] + aggregations\n",
    "                count = count + 1\n",
    "                \n",
    "    plt.plot(aggreg[:,0], aggreg[:,1]/10)\n",
    "    \n",
    "plt.xlabel('Time')\n",
    "plt.ylabel('Aggregations')\n",
    "plt.title(r'Aggregations for Varied $\\lambda_0$')\n",
    "plt.legend([r'$\\lambda_0 = 1$',r'$\\lambda_0 = 3$',r'$\\lambda_0 = 6$'])"
   ]
  },
  {
   "cell_type": "code",
   "execution_count": 20,
   "metadata": {},
   "outputs": [
    {
     "data": {
      "text/plain": [
       "[<matplotlib.lines.Line2D at 0x129c0f710>]"
      ]
     },
     "execution_count": 20,
     "metadata": {},
     "output_type": "execute_result"
    },
    {
     "data": {
      "image/png": "[encoded data removed]",
      "text/plain": [
       "<matplotlib.figure.Figure at 0x1146379e8>"
      ]
     },
     "metadata": {},
     "output_type": "display_data"
    }
   ],
   "source": [
    "plt.plot(aggreg[:,0], aggreg[:,1])"
   ]
  },
  {
   "cell_type": "markdown",
   "metadata": {},
   "source": [
    "### Animation\n",
    "\n",
    "This routine animates the particle position and scalar field data.\n",
    "Honestly, I still do not completely understand why this works and other things that I tried did not work.  Be careful about returning axis objects with or without a comma.  It seems to cause a problem sometimes one way and sometimes the other (**\"return field\"** not \"return field,\"; but **\"return dots,\"** not \"return dots\")."
   ]
  },
  {
   "cell_type": "code",
   "execution_count": null,
   "metadata": {
    "collapsed": true
   },
   "outputs": [],
   "source": [
    "fig   = plt.figure()\n",
    "ax    = plt.subplot(1,1,1)\n",
    "field = ax.pcolormesh(Swimmers.xm,Swimmers.ym,scalar_store[1])\n",
    "field.set_clim(0,0.08)\n",
    "dots, = ax.plot([], [], 'ro')\n",
    "fig.colorbar(field)\n",
    "\n",
    "def initit():\n",
    "    dots.set_data([], [])\n",
    "    return field,dots\n",
    "\n",
    "def animate(k):\n",
    "    arr = scalar_store[k]\n",
    "    arr = arr[:-1, :-1]\n",
    "    field.set_array(arr.ravel())\n",
    "    plt.title('Frame {0:d}'.format(k))\n",
    "    dots.set_data(pos_store[k][:,0],pos_store[k][:,1])\n",
    "\n",
    "    return field,dots\n",
    "    \n",
    "anim = matplotlib.animation.FuncAnimation(fig,animate,frames=range(0,len(scalar_store),3),\n",
    "                                          interval=50,blit=False,repeat=True)\n",
    "\n",
    "# Uncomment if you want to save it to a file.  Requires mencoder or ffmpeg or some writer utility to generate the file.\n",
    "anim.save('linAtanDep_lambda_small.mp4', writer='ffmpeg')\n",
    "#plt.show()"
   ]
  },
  {
   "cell_type": "markdown",
   "metadata": {},
   "source": [
    "## Extras"
   ]
  },
  {
   "cell_type": "code",
   "execution_count": null,
   "metadata": {
    "collapsed": true
   },
   "outputs": [],
   "source": [
    "pos_store = list([pos[:,:]])\n",
    "pos_store = list([np.array(pos)])\n",
    "scalar_store = list([Swimmers.Meshed()])\n",
    "\n",
    "#count = 1\n",
    "for plot in range(0,5):\n",
    "    for k in range(0,50):\n",
    "        Swimmers.Update2(Swimmers.scalar,pos,vel)\n",
    "        pos_store.append(np.array(pos))\n",
    "        scalar_store.append(Swimmers.Meshed())\n",
    "        #aggregations = countblob(blobdetect(255*.5, 255, Swimmers.Meshed()),blobdetect2(255*.5, 255, Swimmers.Meshed()),blobdetect3(255*.5, 255, Swimmers.Meshed()))\n",
    "        #aggreg = np.append(aggreg,[array([count,aggregations])], axis=0)\n",
    "        #count = count + 1\n",
    "\n",
    "plt.plot(aggreg[:,0], aggreg[:,1])\n",
    "plt.xlabel('Time')\n",
    "plt.ylabel('Aggregations')\n",
    "plt.title(r'Aggregations for atanDep deposition function')\n",
    "#plt.savefig('atandep_rep_exp_2')\n",
    "\n",
    "#plt.show()"
   ]
  },
  {
   "cell_type": "code",
   "execution_count": null,
   "metadata": {
    "collapsed": true
   },
   "outputs": [],
   "source": [
    "pos_store = list([pos[:,:]])\n",
    "pos_store = list([np.array(pos)])\n",
    "scalar_store = list([Swimmers.Meshed()])\n",
    "\n",
    "#count = 1\n",
    "for plot in range(0,5):\n",
    "    for k in range(0,50):\n",
    "        Swimmers.Update2(Swimmers.scalar,pos,vel)\n",
    "        pos_store.append(np.array(pos))\n",
    "        scalar_store.append(Swimmers.Meshed())"
   ]
  },
  {
   "cell_type": "code",
   "execution_count": null,
   "metadata": {
    "collapsed": true,
    "scrolled": true
   },
   "outputs": [],
   "source": [
    "pos_store = list([pos[:,:]])\n",
    "scalar_store = list([Swimmers.Meshed()])\n",
    "\n",
    "count = 1\n",
    "for plot in range(0,5):\n",
    "    for k in range(0,1000):\n",
    "        Swimmers.Update2(Swimmers.scalar,pos,vel)\n",
    "        pos_store.append(np.array(pos))\n",
    "        scalar_store.append(Swimmers.Meshed())\n",
    "        aggregations = countblob(blobdetect(255*.54, 255, Swimmers.Meshed()),blobdetect2(255*.54, 255, Swimmers.Meshed()),blobdetect3(255*.54, 255, Swimmers.Meshed()))\n",
    "        aggreg = np.append(aggreg,[array([count,aggregations])], axis=0)\n",
    "        count = count + 1\n",
    "\n",
    "iters = 10\n",
    "for n in range(1,iters):\n",
    "\n",
    "    Swimmers = PS.Plankton(atanDep,N = meshsize,depMaxStr=1.0e-4,depVar=4.0e-4,k=0.02,speed=0.05,\n",
    "                    lambda0=3.0,kappa=6.4e-3,beta=0.25,depTransWidth=1/250,depThreshold=0.08)\n",
    "\n",
    "    Swimmers.SetBeta(1)\n",
    "    Swimmers.kappa = 6.4e-3\n",
    "    Swimmers.lambda0 = 3.0\n",
    "\n",
    "    Swimmers.SetIC(initial_conditions)\n",
    "\n",
    "    pos = [array([0.1,0.1])]\n",
    "    th = rand()*2*pi\n",
    "    vel = [Swimmers.speed*array([cos(th),sin(th)])]\n",
    "    for l in range(0,20):\n",
    "        for k in range(0,20):\n",
    "            pos = np.append(pos,[array([mod(k*0.05 + 0.01*(rand()-0.5) + 0.05,1),\n",
    "                                      mod(l*0.05 + 0.01*(rand()-0.5) + 0.05,1)])],axis=0)\n",
    "            th  = rand()*2*pi\n",
    "            vel = np.append(vel,[Swimmers.speed*array([cos(th),sin(th)])],axis=0)\n",
    "\n",
    "    pos_store = list([pos[:,:]])\n",
    "    scalar_store = list([Swimmers.Meshed()])\n",
    "\n",
    "    count = 1\n",
    "    for plot in range(0,5):\n",
    "        for k in range(0,1000):\n",
    "            Swimmers.Update2(Swimmers.scalar,pos,vel)\n",
    "            pos_store.append(np.array(pos))\n",
    "            scalar_store.append(Swimmers.Meshed())\n",
    "            aggregations = countblob(blobdetect(255*.54, 255, Swimmers.Meshed()),blobdetect2(255*.54, 255, Swimmers.Meshed()),blobdetect3(255*.54, 255, Swimmers.Meshed()))\n",
    "            aggreg[count,1] = aggreg[count,1] + aggregations\n",
    "            count = count + 1\n",
    "            \n",
    "plt.plot(aggreg[:,0], aggreg[:,1]/iters)\n",
    "plt.xlabel('Time')\n",
    "plt.ylabel('Aggregations')\n",
    "plt.title(r'Aggregations for atanDep deposition function')\n",
    "plt.savefig('atandep_rep_exp')"
   ]
  },
  {
   "cell_type": "code",
   "execution_count": null,
   "metadata": {
    "collapsed": true
   },
   "outputs": [],
   "source": [
    "plt.plot(pos_store[0][:,0],pos_store[0][:,1],'.')"
   ]
  },
  {
   "cell_type": "code",
   "execution_count": null,
   "metadata": {
    "collapsed": true
   },
   "outputs": [],
   "source": [
    "plt.plot(pos_store[250][:,0],pos_store[250][:,1],'.')"
   ]
  },
  {
   "cell_type": "code",
   "execution_count": null,
   "metadata": {
    "collapsed": true
   },
   "outputs": [],
   "source": [
    "len(pos_store)"
   ]
  },
  {
   "cell_type": "code",
   "execution_count": null,
   "metadata": {
    "collapsed": true
   },
   "outputs": [],
   "source": []
  }
 ],
 "metadata": {
  "anaconda-cloud": {},
  "kernelspec": {
   "display_name": "Python [default]",
   "language": "python",
   "name": "python3"
  },
  "language_info": {
   "codemirror_mode": {
    "name": "ipython",
    "version": 3
   },
   "file_extension": ".py",
   "mimetype": "text/x-python",
   "name": "python",
   "nbconvert_exporter": "python",
   "pygments_lexer": "ipython3",
   "version": "3.5.2"
  }
 },
 "nbformat": 4,
 "nbformat_minor": 2
}
