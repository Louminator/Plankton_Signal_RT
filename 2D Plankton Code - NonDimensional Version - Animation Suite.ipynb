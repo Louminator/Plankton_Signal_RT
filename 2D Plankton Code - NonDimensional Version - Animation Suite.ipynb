{
 "cells": [
  {
   "cell_type": "code",
   "execution_count": null,
   "metadata": {
    "collapsed": true
   },
   "outputs": [],
   "source": [
    "from scipy import *\n",
    "import numpy as np\n",
    "from numpy.random import rand, uniform\n",
    "import matplotlib.pyplot as plt\n",
    "import matplotlib.animation\n",
    "import PlanktonSignaling.basicsFixDensity as PS\n",
    "import PlanktonSignaling.BlobDetection as BD\n",
    "import PlanktonSignaling.Deposition as DP\n",
    "import profile\n",
    "\n",
    "%matplotlib notebook\n",
    "\n",
    "#%load_ext Cython"
   ]
  },
  {
   "cell_type": "markdown",
   "metadata": {},
   "source": [
    "Note here that $d_1 = \\frac{\\kappa \\lambda_0}{v^2}$ and $d_2 = \\frac{\\beta}{\\lambda_0}$. For the correct deposition functions, use linAtanDep2 and atanDep2 to include tanh."
   ]
  },
  {
   "cell_type": "code",
   "execution_count": null,
   "metadata": {},
   "outputs": [],
   "source": [
    "meshsize = 400\n",
    "numb = 160000\n",
    "LL = 10\n",
    "Swimmers = PS.Plankton(DP.atanDep2,N = meshsize,depMaxStr=.01,Const=3,L=LL,k=0.02,epsilon=1e-3,speed=1,\n",
    "             lambda0=1,kappa=.2,beta=5,depThreshold=0.05, depTransWidth=0.03, dens=6.476363593662468, num = numb)\n",
    "\n",
    "def initial_conditions(x,y):\n",
    "    return(0*x+0.012)\n",
    "\n",
    "print(Swimmers.d1)\n",
    "print(Swimmers.d2)"
   ]
  },
  {
   "cell_type": "code",
   "execution_count": null,
   "metadata": {
    "collapsed": true
   },
   "outputs": [],
   "source": [
    "def Contour(pos):\n",
    "    f = zeros((meshsize,meshsize))\n",
    "    Std = Swimmers.L**2*Swimmers.density/Swimmers.num\n",
    "    for i in range(0,Swimmers.num):\n",
    "        A = 0\n",
    "        B = 0\n",
    "        C = 0 \n",
    "        D = 0\n",
    "        p = pos[i,:]\n",
    "        f = f + (1/(4*pi*Std))*exp(-((Swimmers.xm-p[0])**2+(Swimmers.ym-p[1])**2)/4/Std)/(4*pi*Std)\n",
    "        if ((p[0])**2<Std):\n",
    "            f = f + (1/(4*pi*Std))*exp(-((Swimmers.xm-p[0]-Swimmers.L)**2+(Swimmers.ym-p[1])**2)/4/Std)/(4*pi*Std)\n",
    "            A = 1\n",
    "        if ((p[0]-Swimmers.L)**2<Std):\n",
    "            f = f + (1/(4*pi*Std))*exp(-((Swimmers.xm-p[0]+Swimmers.L)**2+(Swimmers.ym-p[1])**2)/4/Std)/(4*pi*Std)\n",
    "            B = 1\n",
    "        if ((p[1])**2<Std):\n",
    "            f = f + (1/(4*pi*Std))*exp(-((Swimmers.xm-p[0])**2+(Swimmers.ym-p[1]-Swimmers.L)**2)/4/Std)/(4*pi*Std)\n",
    "            C = 1\n",
    "        if ((p[1]-Swimmers.L)**2<Std):\n",
    "            f = f + (1/(4*pi*Std))*exp(-((Swimmers.xm-p[0])**2+(Swimmers.ym-p[1]+Swimmers.L)**2)/4/Std)/(4*pi*Std)\n",
    "            D = 1\n",
    "        if (A == 1 and C == 1): #Plankton in Lower Left Corner\n",
    "            f = f + (1/(4*pi*Std))*exp(-((Swimmers.xm-p[0]-Swimmers.L)**2+(Swimmers.ym-p[1]-Swimmers.L)**2)/4/Std)/(4*pi*Std)\n",
    "        if (A == 1 and D == 1): #Plankton in Lower Left Corner\n",
    "            f = f + (1/(4*pi*Std))*exp(-((Swimmers.xm-p[0]-Swimmers.L)**2+(Swimmers.ym-p[1]+Swimmers.L)**2)/4/Std)/(4*pi*Std)\n",
    "        if (B == 1 and C == 1): #Plankton in Upper Right Corner\n",
    "            f = f + (1/(4*pi*Std))*exp(-((Swimmers.xm-p[0]+Swimmers.L)**2+(Swimmers.ym-p[1]-Swimmers.L)**2)/4/Std)/(4*pi*Std)\n",
    "        if (B == 1 and D == 1): #Plankton in Lower Right Corner\n",
    "            f = f + (1/(4*pi*Std))*exp(-((Swimmers.xm-p[0]+Swimmers.L)**2+(Swimmers.ym-p[1]+Swimmers.L)**2)/4/Std)/(4*pi*Std)\n",
    "    return(f)"
   ]
  },
  {
   "cell_type": "code",
   "execution_count": null,
   "metadata": {
    "collapsed": true,
    "scrolled": false
   },
   "outputs": [],
   "source": [
    "Swimmers.SetIC(initial_conditions)\n",
    "\n",
    "pos = [array([0.1,0.1])]\n",
    "\n",
    "aggreg = [array([0,0])]\n",
    "areaAve = [array([0,0])]\n",
    "lenn= int(sqrt(numb))\n",
    "th = rand()*2*pi\n",
    "vel = [array([cos(th),sin(th)])]\n",
    "\n",
    "for l in range(0,lenn):\n",
    "    for k in range(0,lenn):\n",
    "        pos = np.append(pos,[array([mod(k*(Swimmers.L*1/lenn) + 0.01*(rand()-0.5) + (Swimmers.L*1/lenn),Swimmers.L),\n",
    "                                  mod(l*(Swimmers.L*1/lenn) + 0.01*(rand()-0.5) + (Swimmers.L*1/lenn),Swimmers.L)])],axis=0)\n",
    "        th  = rand()*2*pi\n",
    "        vel = np.append(vel,[array([cos(th),sin(th)])],axis=0)\n",
    "\n",
    "plt.figure()\n",
    "plt.pcolormesh(Swimmers.xm,Swimmers.ym,Swimmers.Meshed())\n",
    "plt.plot(pos[:,0],pos[:,1],'r.',MarkerSize=.5)\n",
    "plt.colorbar()\n",
    "plt.show()"
   ]
  },
  {
   "cell_type": "code",
   "execution_count": null,
   "metadata": {
    "collapsed": true
   },
   "outputs": [],
   "source": [
    "time = 60\n",
    "\n",
    "pos_store = list([pos[:,:]])\n",
    "pos_store = list([np.array(pos)])\n",
    "\n",
    "scalar_store = list([Swimmers.Meshed()])\n",
    "aggreg = np.array([0,0])\n",
    "\n",
    "count = 1\n",
    "for plot in range(0,1):\n",
    "    for k in range(0,time):\n",
    "        Swimmers.Update(Swimmers.scalar,pos,vel)\n",
    "        pos_store.append(np.array(pos))\n",
    "        scalar_store.append(Swimmers.Meshed())\n",
    "        \n",
    "        #Counts the Number of Aggregations at time k\n",
    "        \n",
    "        #aggreg = np.vstack((aggreg,[k+1,BD.countingAll(1,255,BD.Contour(Swimmers,pos,400,meshsize))])) \n",
    "np.save('PlanktonPos',pos_store)\n",
    "np.save('ChemStore',scalar_store)"
   ]
  },
  {
   "cell_type": "code",
   "execution_count": null,
   "metadata": {
    "collapsed": true
   },
   "outputs": [],
   "source": [
    "ContoursAll = np.zeros((len(pos_store2),meshsize,meshsize))\n",
    "for k in range(0,len(scalar_store2)):\n",
    "    ContoursAll[k,:,:] = Contour(pos_store2[k])\n",
    "#np.save('Contours', ContoursAll)"
   ]
  },
  {
   "cell_type": "markdown",
   "metadata": {},
   "source": [
    "# Animations"
   ]
  },
  {
   "cell_type": "markdown",
   "metadata": {},
   "source": [
    "### Basic Animation with Chemical and Plankton Combined"
   ]
  },
  {
   "cell_type": "code",
   "execution_count": null,
   "metadata": {},
   "outputs": [],
   "source": [
    "fig   = plt.figure()\n",
    "ax    = plt.subplot(1,1,1)\n",
    "pos_store2 = np.load('PlankDots.npy')\n",
    "scalar_store2 = np.load('ChemStore.npy')\n",
    "field = ax.pcolormesh(Swimmers.xm,Swimmers.ym,scalar_store2[0])\n",
    "field.set_clim(0.01199,0.01201)\n",
    "dots, = ax.plot([], [], 'r.',MarkerSize=.55)\n",
    "fig.colorbar(field)\n",
    "\n",
    "plt.suptitle(r'$d_1 = {0},d_2={1}$'.format(Swimmers.d1, Swimmers.d2), fontsize = 10)\n",
    "\n",
    "def initit():\n",
    "    dots.set_data([], [])\n",
    "    return field,dots\n",
    "\n",
    "def animate(k):\n",
    "    arr = scalar_store2[k]\n",
    "    arr = arr[:-1, :-1]\n",
    "    field.set_array(arr.ravel())\n",
    "    plt.title(r'Time = ${0}$'.format(k*Swimmers.k), fontsize = 20)\n",
    "    dots.set_data(pos_store2[k][:,0],pos_store2[k][:,1])\n",
    "\n",
    "    return dots,field\n",
    "    \n",
    "anim = matplotlib.animation.FuncAnimation(fig,animate,frames=range(0,2,1),\n",
    "                                          interval=400,blit=False,repeat=False)\n",
    "\n",
    "# Uncomment if you want to save it to a file.  Requires mencoder or ffmpeg or some writer utility to generate the file.\n",
    "#anim.save('d102_d5_delta1e3_Atandep_HighDensity_scalingsmall3.mp4', writer='ffmpeg')\n",
    "plt.show()"
   ]
  },
  {
   "cell_type": "markdown",
   "metadata": {},
   "source": [
    "### Animation for Plankton Aggregation Contours"
   ]
  },
  {
   "cell_type": "code",
   "execution_count": null,
   "metadata": {
    "scrolled": false
   },
   "outputs": [],
   "source": [
    "fig  = plt.figure()\n",
    "SA = (4*pi*Swimmers.L**2*Swimmers.density/Swimmers.num)**2/160000\n",
    "pos_store2 = np.load('PlankDots.npy')\n",
    "scalar_store2 = np.load('ChemStore.npy')\n",
    "field1 = plt.pcolormesh(Swimmers.xm,Swimmers.ym,ContoursAll[0,:,:]*SA)\n",
    "fig.colorbar(field1)\n",
    "field1.set_clim(0.00042,0.00058)\n",
    "\n",
    "def initit():\n",
    "    \n",
    "    return field1\n",
    "\n",
    "def animate(k):\n",
    "    arr2 = ContoursAll[k,:,:]*SA\n",
    "    arr2 = arr2[:-1,:-1]\n",
    "    field1.set_array(arr2.ravel())\n",
    "    plt.suptitle(r'$d_1 = {0},d_2={1}$, Time = ${2}$'.format(Swimmers.d1, Swimmers.d2,round(k*Swimmers.k,2)), fontsize = 20)\n",
    "    return field1,\n",
    "    \n",
    "anim = matplotlib.animation.FuncAnimation(fig,animate,frames=range(0,30,1),\n",
    "                                          interval=80,blit=False,repeat=False)\n",
    "\n",
    "# Uncomment if you want to save it to a file.  Requires mencoder or ffmpeg or some writer utility to generate the file.\n",
    "#anim.save('d102_d5_delta1e3_Atandep_Contours.mp4', writer='ffmpeg')\n",
    "plt.show()"
   ]
  },
  {
   "cell_type": "markdown",
   "metadata": {},
   "source": [
    "### Animation for finding the most unstable wave numbers using a 2D Fast Fourier Transform"
   ]
  },
  {
   "cell_type": "code",
   "execution_count": null,
   "metadata": {
    "collapsed": true
   },
   "outputs": [],
   "source": [
    "fig   = plt.figure()\n",
    "cmap = plt.get_cmap('binary')\n",
    "freq = (len(Swimmers.xm)*2*pi/(Swimmers.L))*fftfreq(len(Swimmers.xm))\n",
    "ax    = plt.subplot(1,1,1)\n",
    "omega = np.fft.fft2(scalar_store[0])\n",
    "field = ax.pcolormesh(np.fft.fftshift(freq),np.fft.fftshift(freq),log(abs(np.fft.fftshift(omega))),cmap=cmap)\n",
    "flat=log(abs(fftshift(omega))).flatten()\n",
    "flat.sort()\n",
    "field.set_clim(flat[-2]-.1,flat[-2])\n",
    "ax.set_ylim(-10,10)\n",
    "ax.set_xlim(-10,10)\n",
    "def xy(r,phi):\n",
    "    return r*np.cos(phi), r*np.sin(phi)\n",
    "\n",
    "phis=np.arange(0,6.28,0.01)\n",
    "\n",
    "#Input the norm of the most unstable wave number using the stability code\n",
    "r = 5.44\n",
    "ax.plot( *xy(r,phis), c='r',ls='-' )\n",
    "\n",
    "fig.colorbar(field)\n",
    "\n",
    "plt.suptitle(r'$d_1 = {0},d_2={1}$'.format(Swimmers.d1, Swimmers.d2), fontsize = 10)\n",
    "\n",
    "def initit():\n",
    "    return field\n",
    "\n",
    "def animate(k):\n",
    "    omega = fft2(scalar_store[k])\n",
    "    arr = log(abs(fftshift(omega)))\n",
    "    arr = arr[:-1, :-1]\n",
    "    field.set_array(arr.ravel())\n",
    "    flat=log(abs(fftshift(omega))).flatten()\n",
    "    flat.sort()\n",
    "    field.set_clim(flat[-2]-.21,flat[-2])\n",
    "    plt.title(r'T = {0}'.format(round(k*Swimmers.k,2)), fontsize = 15)\n",
    "    \n",
    "    return field\n",
    "    \n",
    "anim = matplotlib.animation.FuncAnimation(fig,animate,frames=range(0,len(scalar_store),1),\n",
    "                                          interval=200,blit=False,repeat=False)\n",
    "\n",
    "# Uncomment if you want to save it to a file.  Requires mencoder or ffmpeg or some writer utility to generate the file.\n",
    "#anim.save('High_Wave_NumberAnim_d102_d250_Slow.mp4', writer='ffmpeg')\n",
    "plt.show()"
   ]
  }
 ],
 "metadata": {
  "anaconda-cloud": {},
  "kernelspec": {
   "display_name": "Python 3",
   "language": "python",
   "name": "python3"
  },
  "language_info": {
   "codemirror_mode": {
    "name": "ipython",
    "version": 3
   },
   "file_extension": ".py",
   "mimetype": "text/x-python",
   "name": "python",
   "nbconvert_exporter": "python",
   "pygments_lexer": "ipython3",
   "version": "3.7.4"
  }
 },
 "nbformat": 4,
 "nbformat_minor": 1
}
