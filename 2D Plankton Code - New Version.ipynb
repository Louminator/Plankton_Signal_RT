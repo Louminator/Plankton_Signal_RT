{
 "cells": [
  {
   "cell_type": "code",
   "execution_count": null,
   "metadata": {
    "collapsed": true
   },
   "outputs": [],
   "source": [
    "from scipy import *\n",
    "import numpy as np\n",
    "from numpy.random import rand\n",
    "import matplotlib.pyplot as plt\n",
    "import matplotlib.animation\n",
    "import PlanktonSignaling.basics as PS\n",
    "import PlanktonSignaling.BlobDetection as BD\n",
    "import PlanktonSignaling.Deposition as DP\n",
    "import profile\n",
    "\n",
    "%matplotlib notebook\n",
    "\n",
    "#%load_ext Cython"
   ]
  },
  {
   "cell_type": "code",
   "execution_count": null,
   "metadata": {},
   "outputs": [],
   "source": [
    "meshsize = 40\n",
    "print('Mesh length scale: {0:8.2e}'.format(1/meshsize))\n",
    "Swimmers = PS.Plankton(DP.constantDep,N = meshsize,depMaxStr=1.0e-4,depVar=4.0e-4,k=0.02,speed=0.05,\n",
    "                    lambda0=3,kappa=6.4e-3,beta=1,depTransWidth=0.001,depThreshold=0.08)\n",
    "\n",
    "def initial_conditions(x,y):\n",
    "    return(0*x)"
   ]
  },
  {
   "cell_type": "code",
   "execution_count": null,
   "metadata": {},
   "outputs": [],
   "source": [
    "Swimmers.SetIC(initial_conditions)\n",
    "\n",
    "pos = [array([0.1,0.1])]\n",
    "aggreg = [array([0,0])]\n",
    "\n",
    "th = rand()*2*pi\n",
    "vel = [Swimmers.speed*array([cos(th),sin(th)])]\n",
    "\n",
    "for l in range(0,20):\n",
    "    for k in range(0,20):\n",
    "        pos = np.append(pos,[array([mod(k*0.05 + 0.01*(rand()-0.5) + 0.05,1),\n",
    "                                  mod(l*0.05 + 0.01*(rand()-0.5) + 0.05,1)])],axis=0)\n",
    "        th  = rand()*2*pi\n",
    "        vel = np.append(vel,[Swimmers.speed*array([cos(th),sin(th)])],axis=0)\n",
    "        \n",
    "pos_store = list([pos[:,:]])\n",
    "pos_store = list([np.array(pos)])\n",
    "scalar_store = list([Swimmers.Meshed()])\n",
    "\n",
    "count = 1\n",
    "for plot in range(0,5):\n",
    "    for k in range(0,1000):\n",
    "        Swimmers.Update(Swimmers.scalar,pos,vel)\n",
    "        pos_store.append(np.array(pos))\n",
    "        scalar_store.append(Swimmers.Meshed())\n",
    "        aggregations = BD.countblob(BD.blobdetect(255*.50, 255, Swimmers.Meshed()),BD.blobdetect2(255*.50, 255, Swimmers.Meshed()),BD.blobdetect3(255*.50, 255, Swimmers.Meshed()))\n",
    "        aggreg = np.append(aggreg,[array([count,aggregations])], axis=0)\n",
    "        count = count + 1"
   ]
  },
  {
   "cell_type": "code",
   "execution_count": null,
   "metadata": {
    "scrolled": true
   },
   "outputs": [],
   "source": [
    "plt.figure()\n",
    "\n",
    "plt.plot(aggreg[:,0], aggreg[:,1])   \n",
    "plt.xlabel('Time')\n",
    "plt.ylabel('Aggregations')\n",
    "plt.title(r'Aggregations for $\\kappa$: {0:8.2e}, $\\beta$: {1:8.2e},'.format(Swimmers.kappa, Swimmers.beta) \n",
    "          + '\\n' + \n",
    "          r'$\\lambda$: {0:8.2e}, Deposition Func: {1}'.format(Swimmers.lambda0,'atanDep'))\n",
    "\n",
    "plt.savefig('atandDep_64_1_1')"
   ]
  },
  {
   "cell_type": "markdown",
   "metadata": {},
   "source": [
    "# New Animation with Titling Trials"
   ]
  },
  {
   "cell_type": "code",
   "execution_count": null,
   "metadata": {},
   "outputs": [],
   "source": [
    "fig   = plt.figure()\n",
    "ax    = plt.subplot(1,1,1)\n",
    "field = ax.pcolormesh(Swimmers.xm,Swimmers.ym,scalar_store[1])\n",
    "field.set_clim(0,0.08)\n",
    "dots, = ax.plot([], [], 'ro')\n",
    "fig.colorbar(field)\n",
    "\n",
    "def initit():\n",
    "    dots.set_data([], [])\n",
    "    return field,dots\n",
    "\n",
    "def animate(k):\n",
    "    arr = scalar_store[k]\n",
    "    arr = arr[:-1, :-1]\n",
    "    field.set_array(arr.ravel())\n",
    "    plt.title(r'Frame {0:d}'.format(k))\n",
    "    plt.suptitle(r'$\\kappa$: {0:8.2e}, $\\beta$: {1:8.2e}, $\\lambda$: {2:8.2e}, Deposition Func: {3}'.format(Swimmers.kappa, Swimmers.beta, Swimmers.lambda0,'linAtanDep'))\n",
    "    dots.set_data(pos_store[k][:,0],pos_store[k][:,1])\n",
    "\n",
    "    return field,dots,\n",
    "    \n",
    "anim = matplotlib.animation.FuncAnimation(fig,animate,frames=range(0,len(scalar_store),3),\n",
    "                                          interval=50,blit=False,repeat=True)\n",
    "\n",
    "# Uncomment if you want to save it to a file.  Requires mencoder or ffmpeg or some writer utility to generate the file.\n",
    "anim.save('linAtanDep_64_quarter_3.mp4', writer='ffmpeg')\n",
    "plt.show()"
   ]
  }
 ],
 "metadata": {
  "anaconda-cloud": {},
  "kernelspec": {
   "display_name": "Python [Root]",
   "language": "python",
   "name": "Python [Root]"
  },
  "language_info": {
   "codemirror_mode": {
    "name": "ipython",
    "version": 3
   },
   "file_extension": ".py",
   "mimetype": "text/x-python",
   "name": "python",
   "nbconvert_exporter": "python",
   "pygments_lexer": "ipython3",
   "version": "3.5.2"
  }
 },
 "nbformat": 4,
 "nbformat_minor": 1
}
