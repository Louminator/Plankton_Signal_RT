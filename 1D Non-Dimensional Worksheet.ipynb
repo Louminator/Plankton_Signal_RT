{
 "cells": [
  {
   "cell_type": "code",
   "execution_count": null,
   "metadata": {
    "collapsed": true
   },
   "outputs": [],
   "source": [
    "from scipy import *\n",
    "import numpy as np\n",
    "import matplotlib.pyplot as plt\n",
    "import matplotlib.animation\n",
    "import Methods.Deposition as DM\n",
    "import Methods.PDESolver as PM\n",
    "import Methods.Plotting as PL\n",
    "import profile\n",
    "\n",
    "%matplotlib notebook\n",
    "\n",
    "#%load_ext Cython"
   ]
  },
  {
   "cell_type": "markdown",
   "metadata": {},
   "source": [
    "We consider two equivalent non-dimensional coupled nonlinear PDE systems.\n",
    "\n",
    "First, we have a coupled first order PDE, where $c$ is the chemical concentration, $\\psi^+$ is the right moving plankton, and $\\psi^-$ is the left moving plankton:\n",
    "\n",
    "$c_t = d_1 c_{xx} - d_2 c + f(c) \\rho $\n",
    "\n",
    "$\\psi_t^+ = - \\psi_x^+ - \\frac{1}{2} \\left( 1- \\frac{c_x}{|c_x|} \\right) \\psi^+ + \\frac{1}{2} \\left( 1 + \\frac{c_x}{|c_x|} \\right) \\psi^- $\n",
    "\n",
    "$\\psi_t^- = \\psi_x^- + \\frac{1}{2} \\left( 1- \\frac{c_x}{|c_x|} \\right) \\psi^+ - \\frac{1}{2} \\left( 1 + \\frac{c_x}{|c_x|} \\right) \\psi^-$\n",
    "\n",
    "Second, if we let $\\rho = \\psi^+ + \\psi^-$, we can construct a coupled second order PDE\n",
    "\n",
    "$c_t = d_1 c_{xx} - d_2 c + f(c) \\rho $\n",
    "\n",
    "$\\rho_{tt} + \\rho_t =\\rho_{xx} - \\frac{\\partial}{\\partial x} \\left(\\frac{c_x}{|c_x|} \\rho \\right)$\n",
    "\n",
    "We now attempt to discretize these two equations using spectral Chebyshev differentiation matricies for the double derivatives in $x$, and a Crank-Nicolson time-stepping procedure for $c$ and $\\rho$.  "
   ]
  },
  {
   "cell_type": "markdown",
   "metadata": {},
   "source": [
    "Our numerical scheme for the first order equation will be\n",
    "\n",
    "$c^{n + 1} = \\left[ I  - (\\Delta t/2) \\left( d_1 D^2 - d_2 I \\right) \\right]^{-1} \\left[ \\left( I  + (\\Delta t/2) \\left( d_1 D^2 - d_2 I \\right) \\right) c^n + \\Delta t f(c^n) \\rho^n \\right]$ \n",
    "\n",
    "$\\Psi^{n+1} = \\left[I - (\\Delta t/2)(A_1 + H^{n+1} \\right]^{-1} \\left(I + (\\Delta t/2)(A_1 + H^n \\right)\\Psi^n$\n",
    "\n",
    "where\n",
    "\n",
    "$\\Psi^{n} = \\begin{bmatrix}\n",
    "\\psi^+ \\\\\n",
    "\\psi^-\n",
    "\\end{bmatrix}, \\hspace{2mm}\n",
    "A_1 = \\begin{bmatrix}\n",
    "-1 & & & & & & &  \\\\\n",
    " & -1 & & & & & &\\\\\n",
    " & & \\ddots & & & & & \\\\\n",
    " & & & -1 & & & & \\\\\n",
    " & & & & 1 & & & \\\\\n",
    " & & & & & 1& & \\\\\n",
    " & & & & & & \\ddots & \\\\\n",
    " & & & & & & & 1\n",
    "\\end{bmatrix}\n",
    "\\begin{bmatrix}\n",
    "D & 0 \\\\\n",
    "0 & D\n",
    "\\end{bmatrix}$\n",
    "and $H^n$ controls the sign change terms with $\\text{sgn}(c_x)$"
   ]
  },
  {
   "cell_type": "markdown",
   "metadata": {},
   "source": [
    "Our numerical scheme for the second order equation will be: \n",
    "\n",
    "$\\rho^{n+1} = \\frac{1}{1 + \\Delta t/2} \\left\\lbrace 2 \\rho^n + \\rho^{n - 1}\\left( \\Delta t/2  - 1 \\right) + (\\Delta t)^2 \\left[ D^2 \\rho^n - D \\left( \\dfrac{D c^n}{\\sqrt{(Dc_n)^2 + \\delta^2}} \\rho^n \\right) \\right] \\right\\rbrace$\n",
    "\n",
    "$c^{n + 1} = \\left[ I  - (\\Delta t/2) \\left( d_1 D^2 - d_2 I \\right) \\right]^{-1} \\left[ \\left( I  + (\\Delta t/2) \\left( d_1 D^2 - d_2 I \\right) \\right) c^n + \\Delta t f(c^n) \\rho^n \\right]$ "
   ]
  },
  {
   "cell_type": "code",
   "execution_count": null,
   "metadata": {
    "collapsed": true
   },
   "outputs": [],
   "source": [
    "###############################\n",
    "### Constructing the system ###\n",
    "###############################\n",
    "\n",
    "\n",
    "###################\n",
    "## The Variables ##\n",
    "###################\n",
    "\n",
    "\n",
    "#depFcn - The deposition function from Methods.Deposition that will be performing the autochemotaxis #\n",
    "#left - the left endpoint for the spatial regime #\n",
    "#right - the right endpoint for the spatial regime #\n",
    "#d1 - the diffusion rate for the chemical #\n",
    "#d2 - the decay rate for the chemical #\n",
    "#N - the number of nodes for the spatial mesh #\n",
    "#dt - the timestep for the temporal mesh #\n",
    "#depMaxstr - the maximum output of chemical in the system for the plankton #\n",
    "#depThreshold - the amount of chemical to activate the 'switch' in the deposition function #\n",
    "#depTransWidth - the relaxation parameter for the smoothness of the 'switch' deposition function #\n",
    "#delta - for the approximation of sgn(cx) ---> sgn(cx) = c_x/sqrt(c_x^2 + delta^2) #\n",
    "\n",
    "Swimmers = PM.PlankChem(depFcn=DM.atanDep,left=0,right=3,d1=4,d2=2,N = 217,\n",
    "                        dt=0.002,depMaxStr=0.01, depThreshold=0.05, depTransWidth=0.03, delta = 1e-2)\n",
    "\n",
    "\n",
    "\n",
    "#Global parameters#\n",
    "TotalTime = 32000 #Total number of iterations for the experiment\n",
    "c0 = .12 #Initial Constant Value of Chemical for the experiment"
   ]
  },
  {
   "cell_type": "markdown",
   "metadata": {},
   "source": [
    "### Solve The System"
   ]
  },
  {
   "cell_type": "code",
   "execution_count": null,
   "metadata": {
    "collapsed": true
   },
   "outputs": [],
   "source": [
    "#############################\n",
    "#### Second Order System ####\n",
    "#############################\n",
    "\n",
    "\n",
    "##################################################\n",
    "# This code runs the 1D coupled system of equations #                     \n",
    "# with c as the chemical, which diffuses and decays #\n",
    "# throughout the system, and which p, the total plankton #\n",
    "# performs autochemotaxis in regards to this chemical. #\n",
    "\n",
    "# CA - TotalTime x N+1 array for evolution of the chemical #\n",
    "# PA - TotalTime x N+1 array for evolution of the plankton #\n",
    "# CT - TotalTime x 1 array for total amount of chemical in the system #\n",
    "# PT - TotalTime x 1 array for total plankton in the system #\n",
    "#################################################\n",
    "\n",
    "\n",
    "#set up chemical, plankton, and totals\n",
    "CA, PA, CT, PT = Swimmers.initial_conditionsSO(const=c0, steps=TotalTime)\n",
    "\n",
    "#perturb the initial solution\n",
    "CA[1,:], PA[1,:], CT[1], PT[1] = Swimmers.firstStepSO(CA[0,:],PA[0,:])\n",
    "\n",
    "#Complete the iterations necessary\n",
    "for i in range(1, len(CT)-1):\n",
    "    CA[i+1,:], PA[i+1,:], CT[i+1], PT[i+1] = Swimmers.SecondOrder(CA[i,:],PA[i,:],PA[i-1,:])"
   ]
  },
  {
   "cell_type": "code",
   "execution_count": null,
   "metadata": {
    "collapsed": true
   },
   "outputs": [],
   "source": [
    "############################\n",
    "#### First Order System ####\n",
    "############################\n",
    "\n",
    "# This code will take a longer to run than the second order code \n",
    "\n",
    "#####################################################\n",
    "# This code runs the 1D coupled system of equations #\n",
    "# with c as the chemical, which diffuses and decays #\n",
    "# throughout the system, and which p, the right\n",
    "# moving plankton and q, left moving plankton, #\n",
    "# perform autochemotaxis in regards to this chemical. #\n",
    "\n",
    "# CAF - TotalTime x N+1 array for evolution of the chemical #\n",
    "# PAF - TotalTime x N+1 array for evolution of right moving plankton #\n",
    "# QAF - TotalTime x N+1 array for evolution of left moving plankton #\n",
    "# CTF - TotalTime x 1 array for total amount of chemical in the system  #\n",
    "# PTF - TotalTime x 1 array for total plankton moving right in the system #\n",
    "# QTF - TotalTime x 1 array for total plankton moving left in the system #\n",
    "#################################################\n",
    "\n",
    "#set up chemical, plankton, and totals\n",
    "CAF, PAF, QAF, CTF, PTF, QTF = Swimmers.initial_conditionsFO(const=c0, steps=TotalTime)\n",
    "\n",
    "#perturb the initial solution\n",
    "CAF[1,:], PAF[1,:], QAF[1,:], CTF[1], PTF[1], QTF[1] = Swimmers.firstStepFO(CAF[0,:],PAF[0,:],QAF[0,:])\n",
    "\n",
    "for i in range(1, len(CTF)-1):\n",
    "    CAF[i+1,:], PAF[i+1,:], QAF[i+1,:], CTF[i+1], PTF[i+1], QTF[i+1] = Swimmers.FirstOrder(CAF[i,:],PAF[i,:],QAF[i,:])"
   ]
  },
  {
   "cell_type": "markdown",
   "metadata": {},
   "source": [
    "### Plotting Routines"
   ]
  },
  {
   "cell_type": "code",
   "execution_count": null,
   "metadata": {
    "collapsed": true
   },
   "outputs": [],
   "source": [
    "##########################################\n",
    "##########################################\n",
    "##### First Order Plotting Methods #######\n",
    "##########################################\n",
    "##########################################\n",
    "\n",
    "######################\n",
    "### PlotFOCombined ###\n",
    "######################\n",
    "\n",
    "# Plots the chemical and plankton on the same graph with two different axes at a desired time. #\n",
    "# This addes PAF + QAF to get the total plankton density. #\n",
    "# This method will plot the graph so that the highest point is at the center. #\n",
    "\n",
    "PL.PlotFOCombined(Swimmers,CAF,PAF,QAF,time=TotalTime-1)\n",
    "\n",
    "#########################\n",
    "###  MultipleTimesPFO ###\n",
    "#########################\n",
    "\n",
    "# Plots the plankton density at provided times from the times array below. #\n",
    "# Plug in the times you would like to see plotted on the same axis. #\n",
    "# This does not shift the plots.  #\n",
    "\n",
    "times = [200,400,600]\n",
    "PL.MultipleTimesPFO(Swimmers,PAF,QAF,times)\n",
    "\n",
    "#########################\n",
    "###  MultipleTimesCFO ###\n",
    "#########################\n",
    "\n",
    "# Plots the chemical concentration at provided times from the times array below. #\n",
    "# Plug in the times you would like to see plotted on the same axis. #\n",
    "# This does not shift the plots.  #\n",
    "\n",
    "times = [200,400,600]\n",
    "PL.MultipleTimesCFO(Swimmers,CAF,times)"
   ]
  },
  {
   "cell_type": "code",
   "execution_count": null,
   "metadata": {
    "collapsed": true
   },
   "outputs": [],
   "source": [
    "##########################################\n",
    "##########################################\n",
    "##### Second Order Plotting Methods ######\n",
    "##########################################\n",
    "##########################################\n",
    "\n",
    "#######################\n",
    "### PlotSOCombined ####\n",
    "#######################\n",
    "\n",
    "# Plots the chemical and plankton on the same graph with two different axes at a desired time. # \n",
    "# This method will plot the graph so that the highest point is at the center. #\n",
    "\n",
    "PL.PlotSOCombined(Swimmers,CA,PA,time=TotalTime-1)\n",
    "\n",
    "#########################\n",
    "###  MultipleTimesPFO ###\n",
    "#########################\n",
    "\n",
    "# Plots the plankton density at provided times from the times array below. #\n",
    "# Plug in the times you would like to see plotted on the same axis. #\n",
    "# This does not shift the plots. #\n",
    "\n",
    "times = [10000,20000,30000]\n",
    "PL.MultipleTimesPSO(Swimmers,PA,times)\n",
    "\n",
    "#########################\n",
    "###  MultipleTimesCSO ###\n",
    "#########################\n",
    "\n",
    "# Plots the chemical concentration at provided times from the times array below. #\n",
    "# Plug in the times you would like to see plotted on the same axis. #\n",
    "# This does not shift the plots.  #\n",
    "\n",
    "times = [200,400,600]\n",
    "PL.MultipleTimesCFO(Swimmers,CA,times)"
   ]
  }
 ],
 "metadata": {
  "anaconda-cloud": {},
  "kernelspec": {
   "display_name": "Python [default]",
   "language": "python",
   "name": "python3"
  },
  "language_info": {
   "codemirror_mode": {
    "name": "ipython",
    "version": 3
   },
   "file_extension": ".py",
   "mimetype": "text/x-python",
   "name": "python",
   "nbconvert_exporter": "python",
   "pygments_lexer": "ipython3",
   "version": "3.5.2"
  }
 },
 "nbformat": 4,
 "nbformat_minor": 1
}
