{
 "cells": [
  {
   "cell_type": "code",
   "execution_count": 2,
   "metadata": {
    "collapsed": false
   },
   "outputs": [],
   "source": [
    "import sys\n",
    "sys.path.append('../')\n",
    "\n",
    "from scipy import *\n",
    "import numpy as np\n",
    "from numpy.random import rand\n",
    "import matplotlib.pyplot as plt\n",
    "import matplotlib.animation\n",
    "import PlanktonSignaling.basics as PS\n",
    "import profile\n",
    "\n",
    "%matplotlib notebook"
   ]
  },
  {
   "cell_type": "code",
   "execution_count": 3,
   "metadata": {
    "collapsed": true
   },
   "outputs": [],
   "source": [
    "def constantDep(c,depMaxStr,**kwargs):\n",
    "    '''Constant deposition function'''\n",
    "    return(array(depMaxStr*ones(len(c))))\n",
    "\n",
    "def atanDep(c,depMaxStr,depThreshold=0.08,depTransWidth=1/250,**kwargs):\n",
    "    '''arctan (soft switch) transition function'''\n",
    "\n",
    "    return(depMaxStr/pi*(arctan((-c+depThreshold)/depTransWidth)+pi/2))\n",
    "\n",
    "def linAtanDep(c,depMaxStr,depThreshold=0.08,depTransWidth=1/250,**kwargs):\n",
    "    '''arctan (soft switch) transition function'''\n",
    "\n",
    "    return(depMaxStr/pi*(c+0.1*depThreshold)/1.1/depThreshold*(arctan((-c+depThreshold)/depTransWidth)+pi/2))\n"
   ]
  },
  {
   "cell_type": "code",
   "execution_count": 4,
   "metadata": {
    "collapsed": false
   },
   "outputs": [
    {
     "name": "stdout",
     "output_type": "stream",
     "text": [
      "Mesh length scale: 2.50e-02\n",
      "Exact deposition variance: 1.28e-04, length scale: 1.13e-02.  a2: 4.00e-04.\n"
     ]
    }
   ],
   "source": [
    "meshsize = 40\n",
    "print('Mesh length scale: {0:8.2e}'.format(1/meshsize))\n",
    "Swimmers = PS.Plankton(atanDep,N = meshsize,depMaxStr=1.0e-4,depVar=4.0e-4,k=0.02,speed=0.05,\n",
    "                    lambda0=1.0,kappa=6.4e-3,beta=0.25,depTransWidth=0.001,depThreshold=0.08)\n",
    "\n",
    "def initial_conditions(x,y):\n",
    "    return(0*x)\n",
    "\n",
    "Swimmers.SetBeta(1.0)\n"
   ]
  },
  {
   "cell_type": "code",
   "execution_count": null,
   "metadata": {
    "collapsed": true
   },
   "outputs": [],
   "source": []
  }
 ],
 "metadata": {
  "kernelspec": {
   "display_name": "Python 3",
   "language": "python",
   "name": "python3"
  },
  "language_info": {
   "codemirror_mode": {
    "name": "ipython",
    "version": 3
   },
   "file_extension": ".py",
   "mimetype": "text/x-python",
   "name": "python",
   "nbconvert_exporter": "python",
   "pygments_lexer": "ipython3",
   "version": "3.5.2"
  }
 },
 "nbformat": 4,
 "nbformat_minor": 2
}
