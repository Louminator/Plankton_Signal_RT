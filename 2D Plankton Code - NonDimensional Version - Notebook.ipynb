{
 "cells": [
  {
   "cell_type": "code",
   "execution_count": null,
   "metadata": {},
   "outputs": [],
   "source": [
    "from scipy import *\n",
    "import numpy as np\n",
    "from numpy.random import rand, uniform\n",
    "import matplotlib.pyplot as plt\n",
    "import matplotlib.animation\n",
    "import PlanktonSignaling.basics as PS\n",
    "import PlanktonSignaling.BlobDetection as BD\n",
    "import PlanktonSignaling.Deposition as DP\n",
    "import profile\n",
    "\n",
    "%matplotlib notebook\n",
    "\n",
    "#%load_ext Cython"
   ]
  },
  {
   "cell_type": "markdown",
   "metadata": {},
   "source": [
    "Note here that $d_1 = \\frac{\\kappa \\lambda_0}{v^2}$ and $d_2 = \\frac{\\beta}{\\lambda_0}$. For the correct deposition functions, use linAtanDep2 and atanDep2 to include tanh."
   ]
  },
  {
   "cell_type": "code",
   "execution_count": null,
   "metadata": {},
   "outputs": [],
   "source": [
    "meshsize = 80\n",
    "num = 1600\n",
    "LL = 2\n",
    "Swimmers = PS.Plankton(DP.linAtanDep2,N = meshsize,depMaxStr=8.0e-4,Const=3,L=LL,k=0.02,epsilon=1e-5,speed=0.3,\n",
    "                    lambda0=.87,kappa=1e-3,beta=.9,depTransWidth=0.0001,depThreshold=0.003,dens=num/(LL**2))\n",
    "\n",
    "def initial_conditions(x,y):\n",
    "    return(0*x+0.003)\n",
    "\n",
    "print(Swimmers.d1)\n",
    "print(Swimmers.d2)"
   ]
  },
  {
   "cell_type": "code",
   "execution_count": null,
   "metadata": {
    "scrolled": false
   },
   "outputs": [],
   "source": [
    "Swimmers.SetIC(initial_conditions)\n",
    "\n",
    "pos = [array([0.1,0.1])]\n",
    "\n",
    "aggreg = [array([0,0])]\n",
    "areaAve = [array([0,0])]\n",
    "\n",
    "th = rand()*2*pi\n",
    "vel = [array([cos(th),sin(th)])]\n",
    "\n",
    "for l in range(0,40):\n",
    "    for k in range(0,40):\n",
    "        pos = np.append(pos,[array([mod(k*(Swimmers.L*0.05/2) + 0.01*(rand()-0.5) + (Swimmers.L*0.05/2),Swimmers.L),\n",
    "                                  mod(l*(Swimmers.L*0.05/2) + 0.01*(rand()-0.5) + (Swimmers.L*0.05/2),Swimmers.L)])],axis=0)\n",
    "        th  = rand()*2*pi\n",
    "        vel = np.append(vel,[array([cos(th),sin(th)])],axis=0)\n",
    "\n",
    "plt.figure()\n",
    "plt.pcolormesh(Swimmers.xm,Swimmers.ym,Swimmers.Meshed())\n",
    "plt.plot(pos[:,0],pos[:,1],'ro')\n",
    "plt.colorbar()\n",
    "plt.show()"
   ]
  },
  {
   "cell_type": "code",
   "execution_count": null,
   "metadata": {},
   "outputs": [],
   "source": [
    "time = 100\n",
    "\n",
    "pos_store = list([pos[:,:]])\n",
    "pos_store = list([np.array(pos)])\n",
    "\n",
    "scalar_store = list([Swimmers.Meshed()])\n",
    "aggreg = np.array([0,0])\n",
    "\n",
    "count = 1\n",
    "for plot in range(0,1):\n",
    "    for k in range(0,time):\n",
    "        Swimmers.Update(Swimmers.scalar,pos,vel)\n",
    "        pos_store.append(np.array(pos))\n",
    "        scalar_store.append(Swimmers.Meshed())\n",
    "        \n",
    "        #Counts the Number of Aggregations at time k\n",
    "        \n",
    "        #aggreg = np.vstack((aggreg,[k+1,BD.countingAll(1,255,BD.Contour(Swimmers,pos,400,meshsize))]))  "
   ]
  },
  {
   "cell_type": "markdown",
   "metadata": {},
   "source": [
    "# Animations"
   ]
  },
  {
   "cell_type": "code",
   "execution_count": null,
   "metadata": {},
   "outputs": [],
   "source": [
    "fig   = plt.figure()\n",
    "ax    = plt.subplot(1,1,1)\n",
    "field = ax.pcolormesh(Swimmers.xm,Swimmers.ym,scalar_store[1])\n",
    "field.set_clim(0,.0032)\n",
    "dots, = ax.plot([], [], 'ro')\n",
    "fig.colorbar(field)\n",
    "\n",
    "def initit():\n",
    "    dots.set_data([], [])\n",
    "    return field,dots\n",
    "\n",
    "def animate(k):\n",
    "    arr = scalar_store[k]\n",
    "    arr = arr[:-1, :-1]\n",
    "    field.set_array(arr.ravel())\n",
    "    plt.title(r'Time = ${0}$'.format(k*Swimmers.k), fontsize = 20)\n",
    "    dots.set_data(pos_store[k][:,0],pos_store[k][:,1])\n",
    "\n",
    "    return field,dots,\n",
    "    \n",
    "anim = matplotlib.animation.FuncAnimation(fig,animate,frames=range(0,len(scalar_store),2),\n",
    "                                          interval=80,blit=False,repeat=False)\n",
    "\n",
    "# Uncomment if you want to save it to a file.  Requires mencoder or ffmpeg or some writer utility to generate the file.\n",
    "#anim.save('New_Movie_Long_10000.mp4', writer='ffmpeg')\n",
    "plt.show()"
   ]
  }
 ],
 "metadata": {
  "anaconda-cloud": {},
  "kernelspec": {
   "display_name": "Python 3",
   "language": "python",
   "name": "python3"
  },
  "language_info": {
   "codemirror_mode": {
    "name": "ipython",
    "version": 3
   },
   "file_extension": ".py",
   "mimetype": "text/x-python",
   "name": "python",
   "nbconvert_exporter": "python",
   "pygments_lexer": "ipython3",
   "version": "3.6.9"
  }
 },
 "nbformat": 4,
 "nbformat_minor": 1
}
